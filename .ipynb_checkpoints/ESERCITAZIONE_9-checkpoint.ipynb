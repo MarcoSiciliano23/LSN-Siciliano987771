{
 "cells": [
  {
   "cell_type": "code",
   "execution_count": 4,
   "id": "ecd4f82f-7f6b-4840-a7e6-65faa617aea7",
   "metadata": {},
   "outputs": [
    {
     "ename": "FileNotFoundError",
     "evalue": "[Errno 2] No such file or directory: 'coord_cerc.txt'",
     "output_type": "error",
     "traceback": [
      "\u001b[0;31m---------------------------------------------------------------------------\u001b[0m",
      "\u001b[0;31mFileNotFoundError\u001b[0m                         Traceback (most recent call last)",
      "Cell \u001b[0;32mIn[4], line 24\u001b[0m\n\u001b[1;32m     21\u001b[0m     \u001b[38;5;28;01mreturn\u001b[39;00m numeri\n\u001b[1;32m     23\u001b[0m \u001b[38;5;66;03m# Carica le coordinate dei punti\u001b[39;00m\n\u001b[0;32m---> 24\u001b[0m x_coords, y_coords \u001b[38;5;241m=\u001b[39m carica_coordinate(\u001b[38;5;124m'\u001b[39m\u001b[38;5;124mcoord_cerc.txt\u001b[39m\u001b[38;5;124m'\u001b[39m)\n\u001b[1;32m     26\u001b[0m \u001b[38;5;66;03m# Carica i numeri da sovrapporre ai punti\u001b[39;00m\n\u001b[1;32m     27\u001b[0m numeri \u001b[38;5;241m=\u001b[39m carica_numeri(\u001b[38;5;124m'\u001b[39m\u001b[38;5;124mpercorso_cerc.txt\u001b[39m\u001b[38;5;124m'\u001b[39m)\n",
      "Cell \u001b[0;32mIn[4], line 7\u001b[0m, in \u001b[0;36mcarica_coordinate\u001b[0;34m(file)\u001b[0m\n\u001b[1;32m      5\u001b[0m x_coords \u001b[38;5;241m=\u001b[39m []\n\u001b[1;32m      6\u001b[0m y_coords \u001b[38;5;241m=\u001b[39m []\n\u001b[0;32m----> 7\u001b[0m \u001b[38;5;28;01mwith\u001b[39;00m \u001b[38;5;28mopen\u001b[39m(file, \u001b[38;5;124m'\u001b[39m\u001b[38;5;124mr\u001b[39m\u001b[38;5;124m'\u001b[39m) \u001b[38;5;28;01mas\u001b[39;00m f:\n\u001b[1;32m      8\u001b[0m     \u001b[38;5;28;01mfor\u001b[39;00m line \u001b[38;5;129;01min\u001b[39;00m f:\n\u001b[1;32m      9\u001b[0m         x, y \u001b[38;5;241m=\u001b[39m \u001b[38;5;28mmap\u001b[39m(\u001b[38;5;28mfloat\u001b[39m, line\u001b[38;5;241m.\u001b[39msplit())\n",
      "File \u001b[0;32m~/anaconda3/lib/python3.11/site-packages/IPython/core/interactiveshell.py:310\u001b[0m, in \u001b[0;36m_modified_open\u001b[0;34m(file, *args, **kwargs)\u001b[0m\n\u001b[1;32m    303\u001b[0m \u001b[38;5;28;01mif\u001b[39;00m file \u001b[38;5;129;01min\u001b[39;00m {\u001b[38;5;241m0\u001b[39m, \u001b[38;5;241m1\u001b[39m, \u001b[38;5;241m2\u001b[39m}:\n\u001b[1;32m    304\u001b[0m     \u001b[38;5;28;01mraise\u001b[39;00m \u001b[38;5;167;01mValueError\u001b[39;00m(\n\u001b[1;32m    305\u001b[0m         \u001b[38;5;124mf\u001b[39m\u001b[38;5;124m\"\u001b[39m\u001b[38;5;124mIPython won\u001b[39m\u001b[38;5;124m'\u001b[39m\u001b[38;5;124mt let you open fd=\u001b[39m\u001b[38;5;132;01m{\u001b[39;00mfile\u001b[38;5;132;01m}\u001b[39;00m\u001b[38;5;124m by default \u001b[39m\u001b[38;5;124m\"\u001b[39m\n\u001b[1;32m    306\u001b[0m         \u001b[38;5;124m\"\u001b[39m\u001b[38;5;124mas it is likely to crash IPython. If you know what you are doing, \u001b[39m\u001b[38;5;124m\"\u001b[39m\n\u001b[1;32m    307\u001b[0m         \u001b[38;5;124m\"\u001b[39m\u001b[38;5;124myou can use builtins\u001b[39m\u001b[38;5;124m'\u001b[39m\u001b[38;5;124m open.\u001b[39m\u001b[38;5;124m\"\u001b[39m\n\u001b[1;32m    308\u001b[0m     )\n\u001b[0;32m--> 310\u001b[0m \u001b[38;5;28;01mreturn\u001b[39;00m io_open(file, \u001b[38;5;241m*\u001b[39margs, \u001b[38;5;241m*\u001b[39m\u001b[38;5;241m*\u001b[39mkwargs)\n",
      "\u001b[0;31mFileNotFoundError\u001b[0m: [Errno 2] No such file or directory: 'coord_cerc.txt'"
     ]
    }
   ],
   "source": [
    "import matplotlib.pyplot as plt\n",
    "\n",
    "# Carica le coordinate dei punti da un file\n",
    "def carica_coordinate(file):\n",
    "    x_coords = []\n",
    "    y_coords = []\n",
    "    with open(file, 'r') as f:\n",
    "        for line in f:\n",
    "            x, y = map(float, line.split())\n",
    "            x_coords.append(x)\n",
    "            y_coords.append(y)\n",
    "    return x_coords, y_coords\n",
    "\n",
    "# Carica i numeri da sovrapporre ai punti da un file\n",
    "def carica_numeri(file):\n",
    "    numeri = []\n",
    "    with open(file, 'r') as f:\n",
    "        for line in f:\n",
    "            numero = int(line.strip())\n",
    "            numeri.append(numero)\n",
    "    return numeri\n",
    "\n",
    "# Carica le coordinate dei punti\n",
    "x_coords, y_coords = carica_coordinate('coord_cerc.dat')\n",
    "\n",
    "# Carica i numeri da sovrapporre ai punti\n",
    "numeri = carica_numeri('percorso_cerc.dat')\n",
    "\n",
    "# Crea il grafico\n",
    "plt.figure(figsize=(8, 6))\n",
    "\n",
    "# Disegna i punti\n",
    "plt.scatter(x_coords, y_coords)\n",
    "\n",
    "# Sovrappone i numeri sopra i punti\n",
    "for i, numero in enumerate(numeri):\n",
    "    plt.text(x_coords[i], y_coords[i], str(numero), fontsize=12, ha='center', va='bottom')\n",
    "\n",
    "# Imposta i titoli e i label degli assi\n",
    "# Unisci i punti secondo l'ordine del percorso\n",
    "\n",
    "percorso_coordinate = [coordinate[i] for i in percorso]\n",
    "px, py = zip(*percorso_coordinate)\n",
    "plt.plot(px, py, 'r-')  # Disegna il percorso come linea rossa\n",
    "plt.xlabel('X')\n",
    "plt.ylabel('Y')\n",
    "\n",
    "# Mostra il grafico\n",
    "plt.grid(True)\n",
    "plt.show()\n"
   ]
  },
  {
   "cell_type": "code",
   "execution_count": null,
   "id": "fd5540aa-ba14-4b51-b58a-8eabd5691b44",
   "metadata": {},
   "outputs": [],
   "source": []
  },
  {
   "cell_type": "code",
   "execution_count": 30,
   "id": "0893a5b5-83f7-4e59-9a39-bc8e75dda1f0",
   "metadata": {},
   "outputs": [
    {
     "data": {
      "image/png": "[encoded data removed]",
      "text/plain": [
       "<Figure size 640x480 with 1 Axes>"
      ]
     },
     "metadata": {},
     "output_type": "display_data"
    }
   ],
   "source": [
    "import matplotlib.pyplot as plt\n",
    "\n",
    "# Funzione per leggere le coordinate da un file\n",
    "def leggi_coordinate(file):\n",
    "    coordinate = []\n",
    "    with open(file, 'r') as f:\n",
    "        for line in f:\n",
    "            x, y = map(float, line.split())\n",
    "            coordinate.append((x, y))\n",
    "    return coordinate\n",
    "\n",
    "# Funzione per leggere l'ordine del percorso da un file\n",
    "def leggi_percorso(file):\n",
    "    percorso = []\n",
    "    with open(file, 'r') as f:\n",
    "        for line in f:\n",
    "            percorso.extend(map(int, line.split()))\n",
    "    return percorso\n",
    "\n",
    "# Leggi le coordinate e l'ordine del percorso dai file\n",
    "coordinate = leggi_coordinate('coord.txt')\n",
    "percorso = leggi_percorso('percorso.txt')\n",
    "\n",
    "# Disegna i punti sul grafico\n",
    "x, y = zip(*coordinate)\n",
    "plt.plot(x, y, 'bo')  # Disegna i punti come cerchi blu\n",
    "\n",
    "# Unisci i punti secondo l'ordine del percorso\n",
    "percorso_coordinate = [coordinate[i] for i in percorso]\n",
    "px, py = zip(*percorso_coordinate)\n",
    "plt.plot(px, py, 'r-')  # Disegna il percorso come linea rossa\n",
    "\n",
    "# Imposta i limiti degli assi in modo che tutti i punti siano visibili\n",
    "plt.xlim(min(x) - 1, max(x) + 1)\n",
    "plt.ylim(min(y) - 1, max(y) + 1)\n",
    "\n",
    "# Mostra il grafico\n",
    "plt.gca().set_aspect('equal', adjustable='box')\n",
    "plt.show()\n"
   ]
  }
 ],
 "metadata": {
  "kernelspec": {
   "display_name": "Python 3 (ipykernel)",
   "language": "python",
   "name": "python3"
  },
  "language_info": {
   "codemirror_mode": {
    "name": "ipython",
    "version": 3
   },
   "file_extension": ".py",
   "mimetype": "text/x-python",
   "name": "python",
   "nbconvert_exporter": "python",
   "pygments_lexer": "ipython3",
   "version": "3.11.5"
  }
 },
 "nbformat": 4,
 "nbformat_minor": 5
}
