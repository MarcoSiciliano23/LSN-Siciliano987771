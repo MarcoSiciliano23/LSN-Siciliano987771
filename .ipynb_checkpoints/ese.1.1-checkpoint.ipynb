{
 "cells": [
  {
   "cell_type": "code",
   "execution_count": 23,
   "id": "30657e0f-00d8-4b8a-ae0a-f779437578a7",
   "metadata": {},
   "outputs": [
    {
     "data": {
      "image/png": "[encoded data removed]",
      "text/plain": [
       "<Figure size 640x480 with 1 Axes>"
      ]
     },
     "metadata": {},
     "output_type": "display_data"
    }
   ],
   "source": [
    "import numpy as np\n",
    "import matplotlib.pyplot as plt\n",
    "\n",
    "def takeData(file_nome):\n",
    "    dati = []  # Lista per contenere i dati letti\n",
    "    try:\n",
    "        with open(file_nome, 'r') as file:\n",
    "            for riga in file:\n",
    "                # Separa i dati utilizzando uno spazio come delimitatore (puoi modificare in base al formato)\n",
    "                dati_riga = riga.strip().split()\n",
    "                \n",
    "                # Converte i dati in float e aggiunge alla lista dati\n",
    "                dati_float = [float(dato) for dato in dati_riga]\n",
    "                dati.append(dati_float)\n",
    "    except FileNotFoundError:\n",
    "        print(f\"Errore: il file {file_nome} non esiste.\")\n",
    "    except Exception as e:\n",
    "        print(f\"Errore durante la lettura del file: {e}\")\n",
    "\n",
    "    return np.array(dati)  # Converte la lista di liste in un array NumPy\n",
    "\n",
    "file_medie = \"mean.out\"\n",
    "file_errori = \"errors.out\"\n",
    "\n",
    "M = 100000              # Numero totale di lanci\n",
    "N = 100                 # Numero di blocchi\n",
    "L = int(M/N)\n",
    "\n",
    "mean = np.squeeze(takeData(file_medie))\n",
    "err = np.squeeze(takeData(file_errori))\n",
    "x = np.arange(0, M, L)  # Numero di lanci = blocco * (Numero di lanci in ogni blocco)\n",
    "\n",
    "plt.errorbar(x, mean-0.5, yerr=err)\n",
    "plt.xlabel('#throws')\n",
    "plt.ylabel('<r>-1/2')\n",
    "plt.grid(True)\n",
    "plt.show()\n"
   ]
  },
  {
   "cell_type": "code",
   "execution_count": null,
   "id": "9f35851e-0064-4ec0-ba5a-902b5d5d6135",
   "metadata": {},
   "outputs": [],
   "source": [
    "import numpy as np\n",
    "import matplotlib.pyplot as plt\n",
    "\n",
    "def takeData(file_nome):\n",
    "    dati = []  # Lista per contenere i dati letti\n",
    "    try:\n",
    "        with open(file_nome, 'r') as file:\n",
    "            for riga in file:\n",
    "                # Separa i dati utilizzando uno spazio come delimitatore (puoi modificare in base al formato)\n",
    "                dati_riga = riga.strip().split()\n",
    "                \n",
    "                # Converte i dati in float e aggiunge alla lista dati\n",
    "                dati_float = [float(dato) for dato in dati_riga]\n",
    "                dati.append(dati_float)\n",
    "    except FileNotFoundError:\n",
    "        print(f\"Errore: il file {file_nome} non esiste.\")\n",
    "    except Exception as e:\n",
    "        print(f\"Errore durante la lettura del file: {e}\")\n",
    "\n",
    "    return np.array(dati)  # Converte la lista di liste in un array NumPy\n",
    "\n",
    "file_medie = \"mean.out\"\n",
    "file_errori = \"errors.out\"\n",
    "\n",
    "M = 100000              # Numero totale di lanci\n",
    "N = 100                 # Numero di blocchi\n",
    "L = int(M/N)\n",
    "\n",
    "mean = np.squeeze(takeData(file_medie))\n",
    "err = np.squeeze(takeData(file_errori))\n",
    "x = np.arange(0, M, L)  # Numero di lanci = blocco * (Numero di lanci in ogni blocco)\n",
    "\n",
    "plt.errorbar(x, mean-0.5, yerr=err)\n",
    "plt.xlabel('#throws')\n",
    "plt.ylabel('<r>-1/2')\n",
    "plt.grid(True)\n",
    "plt.show()\n"
   ]
  },
  {
   "cell_type": "code",
   "execution_count": null,
   "id": "b436d426-360c-4377-95e4-3dc24af33a28",
   "metadata": {},
   "outputs": [],
   "source": [
    "import matplotlib.pyplot as plt\n",
    "import numpy as np\n",
    "\n",
    "def leggi_file(nome_file):\n",
    "    try:\n",
    "        with open(nome_file, 'r') as file:\n",
    "            dati = [float(line.strip()) for line in file]\n",
    "        return dati\n",
    "    except FileNotFoundError:\n",
    "        print(f\"Errore: il file {nome_file} non esiste.\")\n",
    "        return None\n",
    "    except Exception as e:\n",
    "        print(f\"Errore durante la lettura del file {nome_file}: {e}\")\n",
    "        return None\n",
    "\n",
    "def plotta_istogramma(dati, titolo, xlabel, ylabel):\n",
    "    plt.hist(dati, bins=20, color='blue', edgecolor='black', alpha=0.7)\n",
    "    plt.title(titolo)\n",
    "    plt.xlabel(xlabel)\n",
    "    plt.ylabel(ylabel)\n",
    "    plt.show()\n",
    "\n",
    "# Leggi e plotta gli istogrammi per tutti i 12 file\n",
    "for i in range(0, 3):\n",
    "    nome_file = f'dati{i}.txt'\n",
    "    dati = leggi_file(nome_file)\n",
    "    \n",
    "    if dati:\n",
    "        titolo = f'Istogramma Dati {i}'\n",
    "        xlabel = 'Valore'\n",
    "        ylabel = 'Frequenza'\n",
    "        plotta_istogramma(dati, titolo, xlabel, ylabel)\n"
   ]
  },
  {
   "cell_type": "code",
   "execution_count": null,
   "id": "b0ce4c13-f629-4ab9-bbe5-7f9d5ae80904",
   "metadata": {},
   "outputs": [],
   "source": []
  },
  {
   "cell_type": "code",
   "execution_count": null,
   "id": "e5f8805e-03bd-4bef-a5bc-52d84d727df0",
   "metadata": {},
   "outputs": [],
   "source": []
  },
  {
   "cell_type": "code",
   "execution_count": null,
   "id": "91622881-c83b-498b-8327-fedb6ca406c7",
   "metadata": {},
   "outputs": [],
   "source": []
  },
  {
   "cell_type": "code",
   "execution_count": null,
   "id": "57aa7fd9-7806-4418-bfa4-6d894f98d1aa",
   "metadata": {},
   "outputs": [],
   "source": []
  },
  {
   "cell_type": "code",
   "execution_count": null,
   "id": "cb61cae1-dd14-4df0-9a47-2b4e538576ca",
   "metadata": {},
   "outputs": [],
   "source": []
  },
  {
   "cell_type": "code",
   "execution_count": null,
   "id": "989abe72-bb6a-4ff2-b820-846cc884ef1b",
   "metadata": {},
   "outputs": [],
   "source": []
  },
  {
   "cell_type": "code",
   "execution_count": null,
   "id": "d8c7ec4b-5abd-4736-acda-f841725862de",
   "metadata": {},
   "outputs": [],
   "source": []
  },
  {
   "cell_type": "code",
   "execution_count": null,
   "id": "0b869c73-e869-4a9b-959c-6886a0f3dedf",
   "metadata": {},
   "outputs": [],
   "source": []
  },
  {
   "cell_type": "code",
   "execution_count": null,
   "id": "815d7305-24e9-46ad-b4de-6416c021c6f3",
   "metadata": {},
   "outputs": [],
   "source": []
  },
  {
   "cell_type": "code",
   "execution_count": null,
   "id": "ca274a0d-7f1e-4c41-8e30-a88be5f6a7f5",
   "metadata": {},
   "outputs": [],
   "source": []
  },
  {
   "cell_type": "code",
   "execution_count": null,
   "id": "985052df-6f46-4dec-96bc-80101812d1bb",
   "metadata": {},
   "outputs": [],
   "source": []
  },
  {
   "cell_type": "code",
   "execution_count": null,
   "id": "2e529776-3afa-4374-9449-675ab197cf82",
   "metadata": {},
   "outputs": [],
   "source": []
  },
  {
   "cell_type": "code",
   "execution_count": null,
   "id": "a716fb96-def2-4ac9-b4e8-b065f8c3df0d",
   "metadata": {},
   "outputs": [],
   "source": []
  },
  {
   "cell_type": "code",
   "execution_count": null,
   "id": "9b533628-dc64-4e2c-b55b-53de39f95054",
   "metadata": {},
   "outputs": [],
   "source": []
  },
  {
   "cell_type": "code",
   "execution_count": null,
   "id": "82d396bf-bf52-453c-a5bc-738ee105499f",
   "metadata": {},
   "outputs": [],
   "source": []
  },
  {
   "cell_type": "code",
   "execution_count": null,
   "id": "03821d8b-4312-4bfc-b865-1215a33a95a4",
   "metadata": {},
   "outputs": [],
   "source": []
  }
 ],
 "metadata": {
  "kernelspec": {
   "display_name": "Python 3 (ipykernel)",
   "language": "python",
   "name": "python3"
  },
  "language_info": {
   "codemirror_mode": {
    "name": "ipython",
    "version": 3
   },
   "file_extension": ".py",
   "mimetype": "text/x-python",
   "name": "python",
   "nbconvert_exporter": "python",
   "pygments_lexer": "ipython3",
   "version": "3.11.5"
  }
 },
 "nbformat": 4,
 "nbformat_minor": 5
}
